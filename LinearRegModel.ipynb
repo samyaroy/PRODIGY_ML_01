{
 "cells": [
  {
   "cell_type": "code",
   "execution_count": 19,
   "id": "bddfc19f-0657-4939-8ffd-a64619a60d2a",
   "metadata": {},
   "outputs": [
    {
     "name": "stdout",
     "output_type": "stream",
     "text": [
      "   Id  MSSubClass MSZoning  LotFrontage  LotArea Street Alley LotShape  \\\n",
      "0   1          60       RL         65.0     8450   Pave   NaN      Reg   \n",
      "1   2          20       RL         80.0     9600   Pave   NaN      Reg   \n",
      "2   3          60       RL         68.0    11250   Pave   NaN      IR1   \n",
      "3   4          70       RL         60.0     9550   Pave   NaN      IR1   \n",
      "4   5          60       RL         84.0    14260   Pave   NaN      IR1   \n",
      "\n",
      "  LandContour Utilities  ... PoolArea PoolQC Fence MiscFeature MiscVal MoSold  \\\n",
      "0         Lvl    AllPub  ...        0    NaN   NaN         NaN       0      2   \n",
      "1         Lvl    AllPub  ...        0    NaN   NaN         NaN       0      5   \n",
      "2         Lvl    AllPub  ...        0    NaN   NaN         NaN       0      9   \n",
      "3         Lvl    AllPub  ...        0    NaN   NaN         NaN       0      2   \n",
      "4         Lvl    AllPub  ...        0    NaN   NaN         NaN       0     12   \n",
      "\n",
      "  YrSold  SaleType  SaleCondition  SalePrice  \n",
      "0   2008        WD         Normal     208500  \n",
      "1   2007        WD         Normal     181500  \n",
      "2   2008        WD         Normal     223500  \n",
      "3   2006        WD        Abnorml     140000  \n",
      "4   2008        WD         Normal     250000  \n",
      "\n",
      "[5 rows x 81 columns]\n",
      "     Id  MSSubClass MSZoning  LotFrontage  LotArea Street Alley LotShape  \\\n",
      "0  1461          20       RH         80.0    11622   Pave   NaN      Reg   \n",
      "1  1462          20       RL         81.0    14267   Pave   NaN      IR1   \n",
      "2  1463          60       RL         74.0    13830   Pave   NaN      IR1   \n",
      "3  1464          60       RL         78.0     9978   Pave   NaN      IR1   \n",
      "4  1465         120       RL         43.0     5005   Pave   NaN      IR1   \n",
      "\n",
      "  LandContour Utilities  ... ScreenPorch PoolArea PoolQC  Fence MiscFeature  \\\n",
      "0         Lvl    AllPub  ...         120        0    NaN  MnPrv         NaN   \n",
      "1         Lvl    AllPub  ...           0        0    NaN    NaN        Gar2   \n",
      "2         Lvl    AllPub  ...           0        0    NaN  MnPrv         NaN   \n",
      "3         Lvl    AllPub  ...           0        0    NaN    NaN         NaN   \n",
      "4         HLS    AllPub  ...         144        0    NaN    NaN         NaN   \n",
      "\n",
      "  MiscVal MoSold  YrSold  SaleType  SaleCondition  \n",
      "0       0      6    2010        WD         Normal  \n",
      "1   12500      6    2010        WD         Normal  \n",
      "2       0      3    2010        WD         Normal  \n",
      "3       0      6    2010        WD         Normal  \n",
      "4       0      1    2010        WD         Normal  \n",
      "\n",
      "[5 rows x 80 columns]\n",
      "Id                 0\n",
      "MSSubClass         0\n",
      "MSZoning           0\n",
      "LotFrontage      259\n",
      "LotArea            0\n",
      "                ... \n",
      "MoSold             0\n",
      "YrSold             0\n",
      "SaleType           0\n",
      "SaleCondition      0\n",
      "SalePrice          0\n",
      "Length: 81, dtype: int64\n"
     ]
    }
   ],
   "source": [
    "import pandas as pd\n",
    "\n",
    "# Load the data\n",
    "train_data = pd.read_csv('train.csv')\n",
    "test_data = pd.read_csv('test.csv')\n",
    "\n",
    "# Display the first few rows of the dataset to understand its structure\n",
    "print(train_data.head())\n",
    "print(test_data.head())\n",
    "\n",
    "# Check for missing values\n",
    "print(train_data.isnull().sum())\n"
   ]
  },
  {
   "cell_type": "code",
   "execution_count": 20,
   "id": "dd1e376d-a5ad-4bfb-a076-6ccbeed5606c",
   "metadata": {},
   "outputs": [
    {
     "name": "stdout",
     "output_type": "stream",
     "text": [
      "Number of samples in the training data: 1460\n",
      "Number of samples in the test data: 1459\n"
     ]
    }
   ],
   "source": [
    "# Handle missing values by dropping rows with missing values for simplicity\n",
    "train_data = train_data.dropna(subset=['GrLivArea', 'BedroomAbvGr', 'FullBath', 'SalePrice'])\n",
    "test_data = test_data.dropna(subset=['GrLivArea', 'BedroomAbvGr', 'FullBath'])\n",
    "\n",
    "# Check if the datasets are empty after dropping rows\n",
    "print(f\"Number of samples in the training data: {train_data.shape[0]}\")\n",
    "print(f\"Number of samples in the test data: {test_data.shape[0]}\")\n",
    "\n",
    "if train_data.shape[0] == 0 or test_data.shape[0] == 0:\n",
    "    raise ValueError(\"The dataset is empty after preprocessing. Please check the dataset and preprocessing steps.\")\n",
    "\n",
    "# Rename columns for consistency\n",
    "train_data.rename(columns={'GrLivArea': 'square_footage', 'BedroomAbvGr': 'bedrooms', 'FullBath': 'bathrooms'}, inplace=True)\n",
    "test_data.rename(columns={'GrLivArea': 'square_footage', 'BedroomAbvGr': 'bedrooms', 'FullBath': 'bathrooms'}, inplace=True)\n"
   ]
  },
  {
   "cell_type": "code",
   "execution_count": 21,
   "id": "eca87088-d5a5-4c1c-a036-09c97dbf01ca",
   "metadata": {},
   "outputs": [],
   "source": [
    "from sklearn.model_selection import train_test_split\n",
    "\n",
    "# Feature Selection\n",
    "features = ['square_footage', 'bedrooms', 'bathrooms']\n",
    "target = 'SalePrice'\n",
    "\n",
    "# Splitting Data\n",
    "X = train_data[features]\n",
    "y = train_data[target]\n",
    "\n",
    "# Add a check to ensure that X and y are not empty\n",
    "if X.shape[0] == 0 or y.shape[0] == 0:\n",
    "    raise ValueError(\"The features or target array is empty. Please check the dataset and feature selection steps.\")\n",
    "\n",
    "X_train, X_test, y_train, y_test = train_test_split(X, y, test_size=0.4, random_state=42)\n"
   ]
  },
  {
   "cell_type": "code",
   "execution_count": 22,
   "id": "0c3a6e7f-c47b-4ba1-877a-8d4d4527408d",
   "metadata": {},
   "outputs": [
    {
     "name": "stdout",
     "output_type": "stream",
     "text": [
      "Cross-Validation R² Scores: [0.62145386 0.60156941 0.61816512 0.58870218 0.44695773]\n",
      "Mean Cross-Validation R² Score: 0.5753696622863029\n"
     ]
    }
   ],
   "source": [
    "from sklearn.model_selection import cross_val_score\n",
    "\n",
    "# Perform cross-validation\n",
    "cv_scores = cross_val_score(model, X, y, cv=5, scoring='r2')\n",
    "print(f'Cross-Validation R² Scores: {cv_scores}')\n",
    "print(f'Mean Cross-Validation R² Score: {cv_scores.mean()}')\n"
   ]
  },
  {
   "cell_type": "code",
   "execution_count": 23,
   "id": "9cbab80d-b369-4fb3-ab90-a685a2b845f3",
   "metadata": {},
   "outputs": [],
   "source": [
    "from sklearn.preprocessing import StandardScaler\n",
    "\n",
    "# Normalize the data\n",
    "scaler = StandardScaler()\n",
    "X_train = scaler.fit_transform(X_train)\n",
    "X_test = scaler.transform(X_test)\n"
   ]
  },
  {
   "cell_type": "code",
   "execution_count": 24,
   "id": "959f9e00-652f-40a5-8ebb-776e747b6d09",
   "metadata": {},
   "outputs": [
    {
     "name": "stdout",
     "output_type": "stream",
     "text": [
      "Training MSE: 2689860234.4648304\n",
      "Testing MSE: 2642371133.2388525\n",
      "Training R²: 0.5261888640275756\n",
      "Testing R²: 0.6354151777518393\n"
     ]
    }
   ],
   "source": [
    "from sklearn.linear_model import LinearRegression\n",
    "from sklearn.metrics import mean_squared_error, r2_score\n",
    "\n",
    "# Model Building\n",
    "model = LinearRegression()\n",
    "model.fit(X_train, y_train)\n",
    "\n",
    "# Model Evaluation\n",
    "y_pred_train = model.predict(X_train)\n",
    "y_pred_test = model.predict(X_test)\n",
    "\n",
    "train_mse = mean_squared_error(y_train, y_pred_train)\n",
    "test_mse = mean_squared_error(y_test, y_pred_test)\n",
    "train_r2 = r2_score(y_train, y_pred_train)\n",
    "test_r2 = r2_score(y_test, y_pred_test)\n",
    "\n",
    "print(f'Training MSE: {train_mse}')\n",
    "print(f'Testing MSE: {test_mse}')\n",
    "print(f'Training R²: {train_r2}')\n",
    "print(f'Testing R²: {test_r2}')\n"
   ]
  },
  {
   "cell_type": "code",
   "execution_count": 25,
   "id": "89a85fc8-f6b1-49d0-a255-d9f3a14f5aae",
   "metadata": {},
   "outputs": [
    {
     "name": "stdout",
     "output_type": "stream",
     "text": [
      "      Actual      Predicted\n",
      "892   154500  115158.033325\n",
      "1105  325000  295328.645206\n",
      "413   115000  137090.531567\n",
      "522   159000  203612.000682\n",
      "1036  315500  225161.548424\n"
     ]
    },
    {
     "data": {
      "image/png": "[encoded data removed]",
      "text/plain": [
       "<Figure size 640x480 with 1 Axes>"
      ]
     },
     "metadata": {},
     "output_type": "display_data"
    }
   ],
   "source": [
    "import matplotlib.pyplot as plt\n",
    "\n",
    "# Inspect the Predictions\n",
    "predictions_df = pd.DataFrame({'Actual': y_test, 'Predicted': y_pred_test})\n",
    "print(predictions_df.head())\n",
    "\n",
    "# Plot Actual vs. Predicted\n",
    "plt.scatter(y_test, y_pred_test)\n",
    "plt.xlabel('Actual Prices')\n",
    "plt.ylabel('Predicted Prices')\n",
    "plt.title('Actual vs. Predicted Prices')\n",
    "plt.show()\n"
   ]
  },
  {
   "cell_type": "code",
   "execution_count": 26,
   "id": "7543c4ef-d687-480c-a2d0-e44a822cbb94",
   "metadata": {},
   "outputs": [
    {
     "name": "stdout",
     "output_type": "stream",
     "text": [
      "Cross-Validation R² Scores: [0.62145386 0.60156941 0.61816512 0.58870218 0.44695773]\n",
      "Mean Cross-Validation R² Score: 0.5753696622863029\n"
     ]
    }
   ],
   "source": [
    "from sklearn.model_selection import cross_val_score\n",
    "\n",
    "# Cross-Validation\n",
    "cv_scores = cross_val_score(model, X, y, cv=5, scoring='r2')\n",
    "print(f'Cross-Validation R² Scores: {cv_scores}')\n",
    "print(f'Mean Cross-Validation R² Score: {cv_scores.mean()}')\n"
   ]
  },
  {
   "cell_type": "code",
   "execution_count": 27,
   "id": "c181e87c-6225-4315-8938-26cc1be43a87",
   "metadata": {},
   "outputs": [
    {
     "name": "stdout",
     "output_type": "stream",
     "text": [
      "     Id      SalePrice\n",
      "0  1461  124453.165098\n",
      "1  1462  140145.553389\n",
      "2  1463  200261.183815\n",
      "3  1464  197867.743196\n",
      "4  1465  192610.756005\n"
     ]
    }
   ],
   "source": [
    "# Prediction on Test Set\n",
    "X_new = test_data[features]\n",
    "X_new = scaler.transform(X_new)  # Normalize\n",
    "\n",
    "predicted_prices = model.predict(X_new)\n",
    "\n",
    "# Save the predictions to a CSV file\n",
    "output = pd.DataFrame({'Id': test_data['Id'], 'SalePrice': predicted_prices})\n",
    "output.to_csv('submission.csv', index=False)\n",
    "\n",
    "print(output.head())\n"
   ]
  },
  {
   "cell_type": "code",
   "execution_count": null,
   "id": "5574ffa4-9478-4e6f-a6d3-ecd3fd7b1f7a",
   "metadata": {},
   "outputs": [],
   "source": []
  },
  {
   "cell_type": "code",
   "execution_count": null,
   "id": "41695ca6-73ce-41fd-8d4e-31e66ebfda62",
   "metadata": {},
   "outputs": [],
   "source": []
  }
 ],
 "metadata": {
  "kernelspec": {
   "display_name": "Python 3 (ipykernel)",
   "language": "python",
   "name": "python3"
  },
  "language_info": {
   "codemirror_mode": {
    "name": "ipython",
    "version": 3
   },
   "file_extension": ".py",
   "mimetype": "text/x-python",
   "name": "python",
   "nbconvert_exporter": "python",
   "pygments_lexer": "ipython3",
   "version": "3.12.3"
  }
 },
 "nbformat": 4,
 "nbformat_minor": 5
}
